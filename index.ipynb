{
 "cells": [
  {
   "cell_type": "markdown",
   "metadata": {},
   "source": [
    "# Calculating a line"
   ]
  },
  {
   "cell_type": "markdown",
   "metadata": {},
   "source": [
    "### Introduction"
   ]
  },
  {
   "cell_type": "markdown",
   "metadata": {},
   "source": [
    "Previously, we saw how a regression line can help us describe our relationship between an input variable like a movie budget and an output variable like the expected revenue from a movie with that budget.  Take a look again at that line. "
   ]
  },
  {
   "cell_type": "markdown",
   "metadata": {
    "collapsed": true
   },
   "source": [
    "![](./plot-intersect.png)"
   ]
  },
  {
   "cell_type": "markdown",
   "metadata": {},
   "source": [
    "We also showed how we can describe a line with the formula $y = mx + b $, where $m$ is the slope and $b$ is the y-intercept of the line.  The benefit of representing our line as a formula is that we can then calculate the $y$ value of our line for any input of $x$. "
   ]
  },
  {
   "cell_type": "code",
   "execution_count": 1,
   "metadata": {},
   "outputs": [
    {
     "data": {
      "text/plain": [
       "20000000.0"
      ]
     },
     "execution_count": 1,
     "metadata": {},
     "output_type": "execute_result"
    }
   ],
   "source": [
    "def y(x):\n",
    "    return 4/3*x + 20000000\n",
    "\n",
    "y(0)"
   ]
  },
  {
   "cell_type": "code",
   "execution_count": 2,
   "metadata": {},
   "outputs": [
    {
     "data": {
      "text/plain": [
       "33333333.333333332"
      ]
     },
     "execution_count": 2,
     "metadata": {},
     "output_type": "execute_result"
    }
   ],
   "source": [
    "y(10000000)"
   ]
  },
  {
   "cell_type": "markdown",
   "metadata": {},
   "source": [
    "Now we know what these $m$ and $b$ values represent.  However, we still do not know how to derive these values from an input line.  That is what we'll cover in this lesson. "
   ]
  },
  {
   "cell_type": "markdown",
   "metadata": {
    "collapsed": true
   },
   "source": [
    "| X (budget)       | Y (revenue)           | \n",
    "| ------------- |:-------------:| \n",
    "| 0      |0 | \n",
    "| 30 million      |40 million | \n",
    "| 60 million      |80 million | "
   ]
  },
  {
   "cell_type": "markdown",
   "metadata": {},
   "source": [
    "### Calculating the slope variable "
   ]
  },
  {
   "cell_type": "markdown",
   "metadata": {},
   "source": [
    "This is our mechanism for calculating the slope $m$.  Take any two points along the straight line, then $m$ is **the ratio of the vertical distance travelled to the horizontal distance travelled**.  Or, in math, it's:\n",
    "\n",
    "$m = \\Delta y \\div \\Delta x $\n",
    "> The $\\Delta$ is the capitalized version of the Greek letter Delta.  In math, delta means change.  So you can the read the above formula as $m$ equals change in y divided by change in x.\n",
    "\n",
    "For example, let's take another look of our graph, and our line.  Let's travel the distance from x being equal to zero to 10 million.  Plugging the numbers into our formula, we see that for that segment:\n",
    "\n",
    "* $\\Delta x$ = 10 million\n",
    "* $\\Delta y$ = 13.3 million\n",
    "\n",
    "Notice that another way to word change in $x$ is really to say it's our ending $x$ value, 10 million, minus our starting $x$ value, 0.  Similarly, change in $y$ means our ending $y$ value, 13 million, minus our $y$ initial value of 0.  \n",
    "\n",
    "So this gives us that: \n",
    "\n",
    "* $\\Delta y = y_1-  y_0$\n",
    "* $\\Delta x = x_1 - x_0$\n",
    "\n",
    "where $y_1$ is our ending point $y$ value, $y_0$ is our innitial $y$ value and $x_1$ and $x_0$ are our ending and initial $x$ values, respectively.   \n",
    "\n",
    "And therefore we can say $m$ is the following: given a beginning point (x0, y0) and an ending point (x1, y1) along any segment of a straight line, the slope of that line $m$ equals the following:  \n",
    "\n",
    "$m = (y_1 - y_0) \\div (x_1 - x_0)$"
   ]
  },
  {
   "cell_type": "markdown",
   "metadata": {},
   "source": [
    "Ok, let's apply this formula to our line.  We can choose any two points for the formula, so looking at the graph below we chose a starting point of (30 million, 40 million) and an ending point of (60 million, 80 million). Then plugging these coordinates into our formula, we have the following:\n",
    "\n",
    "* $m =(y_1 - y_0)\\div(x_1 - x_0) =  (80,000,000 - 40,000,000) \\div (60,000,000 - 30,000,000) = 4/3 = 1.33$"
   ]
  },
  {
   "cell_type": "markdown",
   "metadata": {},
   "source": [
    "![](./m-calc.png)"
   ]
  },
  {
   "cell_type": "markdown",
   "metadata": {},
   "source": [
    "So that is how we calculate the slope of a line, take any two points along that line and divide distance travelled vertically from the distance travelled horizontally.  Rise over run.  Change in $y$ divided by change in $x$."
   ]
  },
  {
   "cell_type": "markdown",
   "metadata": {},
   "source": [
    "### Calculating y-intercept"
   ]
  },
  {
   "cell_type": "markdown",
   "metadata": {},
   "source": [
    "Now, not only can we calculate our slope variable given two points along the line, but we can also calculate our y-intercept.  For example, take a look at the line in the graph below."
   ]
  },
  {
   "cell_type": "markdown",
   "metadata": {},
   "source": [
    "![](./raiseline.png)"
   ]
  },
  {
   "cell_type": "markdown",
   "metadata": {},
   "source": [
    "If you look at the far-left of the x-axis you will see that our $x$ values do not start at zero, but at 10 million.  In other words, we do not directly see our the value of $y$ when $x$ is zero.  But doesn't mean we can't calculate the value of our y-intercept, $b$.  "
   ]
  },
  {
   "cell_type": "markdown",
   "metadata": {},
   "source": [
    "Here's what we can do.  First, let's figure out the slope of our line.  Once again, we can choose any two points on the line to do this.  So we choose the points (30 million, 66 million) and (40 million, 80 million.  Plugging this into our formula for $m$ we have:  "
   ]
  },
  {
   "cell_type": "markdown",
   "metadata": {},
   "source": [
    "$m = (y_1 - y_0)/(x_1 - x_0) = (80,000,000 - 67,000,000)/ (40,000,000 - 30,000,000) = 13,000,000 / 10,000,000 $ = 1.3 "
   ]
  },
  {
   "cell_type": "markdown",
   "metadata": {
    "collapsed": true
   },
   "source": [
    "Ok, so now plugging our calculated value of $m$ into our formula we have: "
   ]
  },
  {
   "cell_type": "markdown",
   "metadata": {},
   "source": [
    "$y = 1.3x + b $"
   ]
  },
  {
   "cell_type": "markdown",
   "metadata": {},
   "source": [
    "Now to solve for $b$, we need to fill in values for $y$ and $x$.  It turns out we have lots of values for $y$ and $x$ to fill in.  Any $y$ and $x$ value along the line can be used.  For example, we can see from our line that when x = 40 million, y = 80 million.  Let's plug that into our formula and solve for $b$: "
   ]
  },
  {
   "cell_type": "markdown",
   "metadata": {},
   "source": [
    "$ 80,000,000 = 1.3 * 40,000,000 + b $"
   ]
  },
  {
   "cell_type": "markdown",
   "metadata": {},
   "source": [
    "We can fill this in because we know that our equation should describe a line where when x = 40,000,000, y = 80,000,000 and from our previous calculation, we know that our formula should describe a line where the slope is 1.3.  So now let's solve for $b$."
   ]
  },
  {
   "cell_type": "markdown",
   "metadata": {},
   "source": [
    "$ 80,000,000 = 1.3 * 40,000,000 + b $\n",
    "\n",
    "$ 80,000,000 = 52,000,000 + b $\n",
    "\n",
    "$ 28,000,000 = b $"
   ]
  },
  {
   "cell_type": "markdown",
   "metadata": {},
   "source": [
    "Solving for $b$, we see that $b$ = 28,000,000.  So now we have filled in our $m$ and $b$ variables for our line, and can describe our gray line above by the formula $y = 1.3x + 28,000,000 $.  Or as a function it looks like: "
   ]
  },
  {
   "cell_type": "code",
   "execution_count": 9,
   "metadata": {},
   "outputs": [],
   "source": [
    "def y(x):\n",
    "    return 1.3*x + 28000000"
   ]
  },
  {
   "cell_type": "markdown",
   "metadata": {},
   "source": [
    "Let's see how well we did by providing a value of $x$, and seeing if the $y$ value lines up to the $y$ value of the line in our chart."
   ]
  },
  {
   "cell_type": "code",
   "execution_count": 11,
   "metadata": {},
   "outputs": [
    {
     "data": {
      "text/plain": [
       "54000000.0"
      ]
     },
     "execution_count": 11,
     "metadata": {},
     "output_type": "execute_result"
    }
   ],
   "source": [
    "y(20000000)"
   ]
  },
  {
   "cell_type": "markdown",
   "metadata": {},
   "source": [
    "So using our formula, when $x$ is 20 million $y$ equals 54 million.  Looking at our graph above, this it seems that our gray line returns a similar $y$ value when $x$ is at 20 million."
   ]
  },
  {
   "cell_type": "markdown",
   "metadata": {},
   "source": [
    "### Summary"
   ]
  },
  {
   "cell_type": "markdown",
   "metadata": {
    "collapsed": true
   },
   "source": [
    "In this lesson, we saw how to calculate the slope and y-intercept variables that describe our line.  We can take any two points along the line to calculate our slope variable.  This is because given two points along the straight line, we can divide the change in $y$ over those two points by the change in $x$ over those two points, and that is the value of our slope.  Then once we have the value for our slope variable, we can take a point along the line and know that our formula satisfy that the $x$ value at that point multiplied by our calculated slope, plus some number $b$ should equal the $y$ value at that point.  So having the $x$, $y$, and $m$ variables for a given point, we can use algebra to solve for our $y$ intercept.  Finally, we turned this formula into a function, "
   ]
  }
 ],
 "metadata": {
  "kernelspec": {
   "display_name": "Python 3",
   "language": "python",
   "name": "python3"
  },
  "language_info": {
   "codemirror_mode": {
    "name": "ipython",
    "version": 3
   },
   "file_extension": ".py",
   "mimetype": "text/x-python",
   "name": "python",
   "nbconvert_exporter": "python",
   "pygments_lexer": "ipython3",
   "version": "3.6.1"
  }
 },
 "nbformat": 4,
 "nbformat_minor": 2
}
